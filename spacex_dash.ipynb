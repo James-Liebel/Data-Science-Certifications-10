{
  "metadata": {
    "kernelspec": {
      "name": "python",
      "display_name": "Python (Pyodide)",
      "language": "python"
    },
    "language_info": {
      "codemirror_mode": {
        "name": "python",
        "version": 3
      },
      "file_extension": ".py",
      "mimetype": "text/x-python",
      "name": "python",
      "nbconvert_exporter": "python",
      "pygments_lexer": "ipython3",
      "version": "3.8"
    }
  },
  "nbformat_minor": 4,
  "nbformat": 4,
  "cells": [
    {
      "cell_type": "code",
      "source": "# spacex_dash.py\n\nimport pandas as pd\nimport dash\nfrom dash import html, dcc\nfrom dash.dependencies import Input, Output\nimport plotly.express as px\n\n# Read the SpaceX launch data into pandas dataframe\nspacex_df = pd.read_csv(\"spacex_launch_dash.csv\")\nmax_payload = spacex_df['Payload Mass (kg)'].max()\nmin_payload = spacex_df['Payload Mass (kg)'].min()\n\n# Create a Dash application\napp = dash.Dash(__name__)\n\n# Build dropdown options dynamically\nsite_options = [{'label': 'All Sites', 'value': 'ALL'}] + \\\n               [{'label': site, 'value': site} for site in spacex_df['Launch Site'].unique()]\n\n# App layout\napp.layout = html.Div([\n    html.H1('SpaceX Launch Records Dashboard',\n            style={'textAlign': 'center', 'color': '#503D36', 'font-size': 40}),\n    \n    # Dropdown for Launch Site\n    dcc.Dropdown(\n        id='site-dropdown',\n        options=site_options,\n        value='ALL',\n        placeholder=\"Select a Launch Site\",\n        searchable=True\n    ),\n    html.Br(),\n    \n    # Pie chart\n    html.Div(dcc.Graph(id='success-pie-chart')),\n    html.Br(),\n    \n    # Payload slider\n    html.P(\"Payload range (Kg):\"),\n    dcc.RangeSlider(\n        id='payload-slider',\n        min=min_payload,\n        max=max_payload,\n        step=1000,\n        marks={i: str(i) for i in range(int(min_payload), int(max_payload)+1, 2000)},\n        value=[min_payload, max_payload]\n    ),\n    html.Br(),\n    \n    # Scatter chart\n    html.Div(dcc.Graph(id='success-payload-scatter-chart')),\n])\n\n# Callback to update pie chart\n@app.callback(\n    Output('success-pie-chart', 'figure'),\n    Input('site-dropdown', 'value')\n)\ndef update_pie(selected_site):\n    if selected_site == 'ALL':\n        fig = px.pie(\n            spacex_df,\n            names='Launch Site',\n            values='class',\n            title='Total Successful Launches by Site'\n        )\n    else:\n        site_df = spacex_df[spacex_df['Launch Site'] == selected_site]\n        fig = px.pie(\n            site_df,\n            names='class',\n            title=f'Success vs. Failure for site {selected_site}'\n        )\n    return fig\n\n# Callback to update scatter plot\n@app.callback(\n    Output('success-payload-scatter-chart', 'figure'),\n    [Input('site-dropdown', 'value'),\n     Input('payload-slider', 'value')]\n)\ndef update_scatter(selected_site, payload_range):\n    low, high = payload_range\n    filtered_df = spacex_df[(spacex_df['Payload Mass (kg)'] >= low) &\n                            (spacex_df['Payload Mass (kg)'] <= high)]\n    if selected_site != 'ALL':\n        filtered_df = filtered_df[filtered_df['Launch Site'] == selected_site]\n    fig = px.scatter(\n        filtered_df,\n        x='Payload Mass (kg)',\n        y='class',\n        color='Booster Version',\n        title='Correlation between Payload and Success'\n    )\n    return fig\n\n# Run the app\nif __name__ == '__main__':\n    app.run_server(debug=True)\n",
      "metadata": {
        "trusted": true,
        "scrolled": true
      },
      "outputs": [
        {
          "ename": "<class 'ModuleNotFoundError'>",
          "evalue": "No module named 'dash'",
          "traceback": [
            "\u001b[0;31m---------------------------------------------------------------------------\u001b[0m",
            "\u001b[0;31mModuleNotFoundError\u001b[0m                       Traceback (most recent call last)",
            "Cell \u001b[0;32mIn[8], line 2\u001b[0m\n\u001b[1;32m      1\u001b[0m \u001b[38;5;28;01mimport\u001b[39;00m \u001b[38;5;21;01mpandas\u001b[39;00m \u001b[38;5;28;01mas\u001b[39;00m \u001b[38;5;21;01mpd\u001b[39;00m\n\u001b[0;32m----> 2\u001b[0m \u001b[38;5;28;01mimport\u001b[39;00m \u001b[38;5;21;01mdash\u001b[39;00m \u001b[38;5;66;03m# instead of dash.Dash\u001b[39;00m\n\u001b[1;32m      3\u001b[0m \u001b[38;5;28;01mfrom\u001b[39;00m \u001b[38;5;21;01mdash\u001b[39;00m \u001b[38;5;28;01mimport\u001b[39;00m html, dcc\n\u001b[1;32m      4\u001b[0m \u001b[38;5;28;01mfrom\u001b[39;00m \u001b[38;5;21;01mdash\u001b[39;00m\u001b[38;5;21;01m.\u001b[39;00m\u001b[38;5;21;01mdependencies\u001b[39;00m \u001b[38;5;28;01mimport\u001b[39;00m Input, Output\n",
            "\u001b[0;31mModuleNotFoundError\u001b[0m: No module named 'dash'"
          ],
          "output_type": "error"
        }
      ],
      "execution_count": 8
    }
  ]
}